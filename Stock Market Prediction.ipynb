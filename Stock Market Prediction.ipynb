{
 "cells": [
  {
   "cell_type": "markdown",
   "id": "94116818",
   "metadata": {},
   "source": [
    "# Stock Market Prediction And Forecasting Using Stacked LSTM"
   ]
  },
  {
   "cell_type": "code",
   "execution_count": 1,
   "id": "0adf23c8",
   "metadata": {},
   "outputs": [
    {
     "name": "stdout",
     "output_type": "stream",
     "text": [
      "Requirement already satisfied: pandas-datareader in c:\\users\\rckzs\\appdata\\local\\programs\\python\\python310\\lib\\site-packages (0.10.0)\n",
      "Requirement already satisfied: lxml in c:\\users\\rckzs\\appdata\\local\\programs\\python\\python310\\lib\\site-packages (from pandas-datareader) (4.6.4)\n",
      "Requirement already satisfied: pandas>=0.23 in c:\\users\\rckzs\\appdata\\local\\programs\\python\\python310\\lib\\site-packages (from pandas-datareader) (1.4.3)\n",
      "Requirement already satisfied: requests>=2.19.0 in c:\\users\\rckzs\\appdata\\local\\programs\\python\\python310\\lib\\site-packages (from pandas-datareader) (2.28.1)\n",
      "Requirement already satisfied: python-dateutil>=2.8.1 in c:\\users\\rckzs\\appdata\\local\\programs\\python\\python310\\lib\\site-packages (from pandas>=0.23->pandas-datareader) (2.8.2)\n",
      "Requirement already satisfied: numpy>=1.21.0 in c:\\users\\rckzs\\appdata\\local\\programs\\python\\python310\\lib\\site-packages (from pandas>=0.23->pandas-datareader) (1.23.1)\n",
      "Requirement already satisfied: pytz>=2020.1 in c:\\users\\rckzs\\appdata\\local\\programs\\python\\python310\\lib\\site-packages (from pandas>=0.23->pandas-datareader) (2022.1)\n",
      "Requirement already satisfied: charset-normalizer<3,>=2 in c:\\users\\rckzs\\appdata\\local\\programs\\python\\python310\\lib\\site-packages (from requests>=2.19.0->pandas-datareader) (2.1.0)\n",
      "Requirement already satisfied: urllib3<1.27,>=1.21.1 in c:\\users\\rckzs\\appdata\\local\\programs\\python\\python310\\lib\\site-packages (from requests>=2.19.0->pandas-datareader) (1.26.11)\n",
      "Requirement already satisfied: idna<4,>=2.5 in c:\\users\\rckzs\\appdata\\local\\programs\\python\\python310\\lib\\site-packages (from requests>=2.19.0->pandas-datareader) (3.3)\n",
      "Requirement already satisfied: certifi>=2017.4.17 in c:\\users\\rckzs\\appdata\\local\\programs\\python\\python310\\lib\\site-packages (from requests>=2.19.0->pandas-datareader) (2022.6.15)\n",
      "Requirement already satisfied: six>=1.5 in c:\\users\\rckzs\\appdata\\local\\programs\\python\\python310\\lib\\site-packages (from python-dateutil>=2.8.1->pandas>=0.23->pandas-datareader) (1.16.0)\n"
     ]
    },
    {
     "name": "stderr",
     "output_type": "stream",
     "text": [
      "\n",
      "[notice] A new release of pip available: 22.3.1 -> 23.1.2\n",
      "[notice] To update, run: python.exe -m pip install --upgrade pip\n"
     ]
    }
   ],
   "source": [
    "!pip install pandas-datareader"
   ]
  },
  {
   "cell_type": "code",
   "execution_count": 2,
   "id": "7b417986",
   "metadata": {},
   "outputs": [],
   "source": [
    " import pandas_datareader as pdr"
   ]
  },
  {
   "cell_type": "code",
   "execution_count": 3,
   "id": "d3e98892",
   "metadata": {},
   "outputs": [],
   "source": [
    "key='c86bb2288a34ab164ff03001c9b3a95271b76c6e'"
   ]
  },
  {
   "cell_type": "code",
   "execution_count": 4,
   "id": "e704c2ab",
   "metadata": {},
   "outputs": [
    {
     "name": "stderr",
     "output_type": "stream",
     "text": [
      "C:\\Users\\rckzs\\AppData\\Local\\Programs\\Python\\Python310\\lib\\site-packages\\pandas_datareader\\tiingo.py:234: FutureWarning: In a future version of pandas all arguments of concat except for the argument 'objs' will be keyword-only.\n",
      "  return pd.concat(dfs, self._concat_axis)\n"
     ]
    }
   ],
   "source": [
    "df=pdr.get_data_tiingo('AAPL',api_key=key)"
   ]
  },
  {
   "cell_type": "code",
   "execution_count": 5,
   "id": "5d6e77e8",
   "metadata": {},
   "outputs": [],
   "source": [
    "df.to_csv('AAPL.csv')"
   ]
  },
  {
   "cell_type": "code",
   "execution_count": 6,
   "id": "2f8d1069",
   "metadata": {},
   "outputs": [
    {
     "data": {
      "text/html": [
       "<div>\n",
       "<style scoped>\n",
       "    .dataframe tbody tr th:only-of-type {\n",
       "        vertical-align: middle;\n",
       "    }\n",
       "\n",
       "    .dataframe tbody tr th {\n",
       "        vertical-align: top;\n",
       "    }\n",
       "\n",
       "    .dataframe thead th {\n",
       "        text-align: right;\n",
       "    }\n",
       "</style>\n",
       "<table border=\"1\" class=\"dataframe\">\n",
       "  <thead>\n",
       "    <tr style=\"text-align: right;\">\n",
       "      <th></th>\n",
       "      <th></th>\n",
       "      <th>close</th>\n",
       "      <th>high</th>\n",
       "      <th>low</th>\n",
       "      <th>open</th>\n",
       "      <th>volume</th>\n",
       "      <th>adjClose</th>\n",
       "      <th>adjHigh</th>\n",
       "      <th>adjLow</th>\n",
       "      <th>adjOpen</th>\n",
       "      <th>adjVolume</th>\n",
       "      <th>divCash</th>\n",
       "      <th>splitFactor</th>\n",
       "    </tr>\n",
       "    <tr>\n",
       "      <th>symbol</th>\n",
       "      <th>date</th>\n",
       "      <th></th>\n",
       "      <th></th>\n",
       "      <th></th>\n",
       "      <th></th>\n",
       "      <th></th>\n",
       "      <th></th>\n",
       "      <th></th>\n",
       "      <th></th>\n",
       "      <th></th>\n",
       "      <th></th>\n",
       "      <th></th>\n",
       "      <th></th>\n",
       "    </tr>\n",
       "  </thead>\n",
       "  <tbody>\n",
       "    <tr>\n",
       "      <th rowspan=\"5\" valign=\"top\">AAPL</th>\n",
       "      <th>2018-05-11 00:00:00+00:00</th>\n",
       "      <td>188.59</td>\n",
       "      <td>190.06</td>\n",
       "      <td>187.45</td>\n",
       "      <td>189.49</td>\n",
       "      <td>26212221</td>\n",
       "      <td>45.116563</td>\n",
       "      <td>45.468232</td>\n",
       "      <td>44.843839</td>\n",
       "      <td>45.331871</td>\n",
       "      <td>104848884</td>\n",
       "      <td>0.73</td>\n",
       "      <td>1.0</td>\n",
       "    </tr>\n",
       "    <tr>\n",
       "      <th>2018-05-14 00:00:00+00:00</th>\n",
       "      <td>188.15</td>\n",
       "      <td>189.53</td>\n",
       "      <td>187.86</td>\n",
       "      <td>189.01</td>\n",
       "      <td>20778772</td>\n",
       "      <td>45.011301</td>\n",
       "      <td>45.341440</td>\n",
       "      <td>44.941924</td>\n",
       "      <td>45.217040</td>\n",
       "      <td>83115088</td>\n",
       "      <td>0.00</td>\n",
       "      <td>1.0</td>\n",
       "    </tr>\n",
       "    <tr>\n",
       "      <th>2018-05-15 00:00:00+00:00</th>\n",
       "      <td>186.44</td>\n",
       "      <td>187.07</td>\n",
       "      <td>185.10</td>\n",
       "      <td>186.78</td>\n",
       "      <td>23695159</td>\n",
       "      <td>44.602216</td>\n",
       "      <td>44.752932</td>\n",
       "      <td>44.281647</td>\n",
       "      <td>44.683555</td>\n",
       "      <td>94780636</td>\n",
       "      <td>0.00</td>\n",
       "      <td>1.0</td>\n",
       "    </tr>\n",
       "    <tr>\n",
       "      <th>2018-05-16 00:00:00+00:00</th>\n",
       "      <td>188.18</td>\n",
       "      <td>188.46</td>\n",
       "      <td>186.00</td>\n",
       "      <td>186.07</td>\n",
       "      <td>19183064</td>\n",
       "      <td>45.018478</td>\n",
       "      <td>45.085463</td>\n",
       "      <td>44.496955</td>\n",
       "      <td>44.513701</td>\n",
       "      <td>76732256</td>\n",
       "      <td>0.00</td>\n",
       "      <td>1.0</td>\n",
       "    </tr>\n",
       "    <tr>\n",
       "      <th>2018-05-17 00:00:00+00:00</th>\n",
       "      <td>186.99</td>\n",
       "      <td>188.91</td>\n",
       "      <td>186.36</td>\n",
       "      <td>188.00</td>\n",
       "      <td>17294029</td>\n",
       "      <td>44.733793</td>\n",
       "      <td>45.193117</td>\n",
       "      <td>44.583078</td>\n",
       "      <td>44.975416</td>\n",
       "      <td>69176116</td>\n",
       "      <td>0.00</td>\n",
       "      <td>1.0</td>\n",
       "    </tr>\n",
       "  </tbody>\n",
       "</table>\n",
       "</div>"
      ],
      "text/plain": [
       "                                   close    high     low    open    volume  \\\n",
       "symbol date                                                                  \n",
       "AAPL   2018-05-11 00:00:00+00:00  188.59  190.06  187.45  189.49  26212221   \n",
       "       2018-05-14 00:00:00+00:00  188.15  189.53  187.86  189.01  20778772   \n",
       "       2018-05-15 00:00:00+00:00  186.44  187.07  185.10  186.78  23695159   \n",
       "       2018-05-16 00:00:00+00:00  188.18  188.46  186.00  186.07  19183064   \n",
       "       2018-05-17 00:00:00+00:00  186.99  188.91  186.36  188.00  17294029   \n",
       "\n",
       "                                   adjClose    adjHigh     adjLow    adjOpen  \\\n",
       "symbol date                                                                    \n",
       "AAPL   2018-05-11 00:00:00+00:00  45.116563  45.468232  44.843839  45.331871   \n",
       "       2018-05-14 00:00:00+00:00  45.011301  45.341440  44.941924  45.217040   \n",
       "       2018-05-15 00:00:00+00:00  44.602216  44.752932  44.281647  44.683555   \n",
       "       2018-05-16 00:00:00+00:00  45.018478  45.085463  44.496955  44.513701   \n",
       "       2018-05-17 00:00:00+00:00  44.733793  45.193117  44.583078  44.975416   \n",
       "\n",
       "                                  adjVolume  divCash  splitFactor  \n",
       "symbol date                                                        \n",
       "AAPL   2018-05-11 00:00:00+00:00  104848884     0.73          1.0  \n",
       "       2018-05-14 00:00:00+00:00   83115088     0.00          1.0  \n",
       "       2018-05-15 00:00:00+00:00   94780636     0.00          1.0  \n",
       "       2018-05-16 00:00:00+00:00   76732256     0.00          1.0  \n",
       "       2018-05-17 00:00:00+00:00   69176116     0.00          1.0  "
      ]
     },
     "execution_count": 6,
     "metadata": {},
     "output_type": "execute_result"
    }
   ],
   "source": [
    "df.head()"
   ]
  },
  {
   "cell_type": "code",
   "execution_count": 7,
   "id": "46055bf0",
   "metadata": {},
   "outputs": [
    {
     "data": {
      "text/plain": [
       "count    1257.000000\n",
       "mean      191.393873\n",
       "std        70.329163\n",
       "min       110.190000\n",
       "25%       146.430000\n",
       "50%       169.580000\n",
       "75%       212.050000\n",
       "max       515.140000\n",
       "Name: high, dtype: float64"
      ]
     },
     "execution_count": 7,
     "metadata": {},
     "output_type": "execute_result"
    }
   ],
   "source": [
    "df['high'].describe()"
   ]
  },
  {
   "cell_type": "code",
   "execution_count": 8,
   "id": "a933b14a",
   "metadata": {},
   "outputs": [
    {
     "data": {
      "text/html": [
       "<div>\n",
       "<style scoped>\n",
       "    .dataframe tbody tr th:only-of-type {\n",
       "        vertical-align: middle;\n",
       "    }\n",
       "\n",
       "    .dataframe tbody tr th {\n",
       "        vertical-align: top;\n",
       "    }\n",
       "\n",
       "    .dataframe thead th {\n",
       "        text-align: right;\n",
       "    }\n",
       "</style>\n",
       "<table border=\"1\" class=\"dataframe\">\n",
       "  <thead>\n",
       "    <tr style=\"text-align: right;\">\n",
       "      <th></th>\n",
       "      <th></th>\n",
       "      <th>close</th>\n",
       "      <th>high</th>\n",
       "      <th>low</th>\n",
       "      <th>open</th>\n",
       "      <th>volume</th>\n",
       "      <th>adjClose</th>\n",
       "      <th>adjHigh</th>\n",
       "      <th>adjLow</th>\n",
       "      <th>adjOpen</th>\n",
       "      <th>adjVolume</th>\n",
       "      <th>divCash</th>\n",
       "      <th>splitFactor</th>\n",
       "    </tr>\n",
       "    <tr>\n",
       "      <th>symbol</th>\n",
       "      <th>date</th>\n",
       "      <th></th>\n",
       "      <th></th>\n",
       "      <th></th>\n",
       "      <th></th>\n",
       "      <th></th>\n",
       "      <th></th>\n",
       "      <th></th>\n",
       "      <th></th>\n",
       "      <th></th>\n",
       "      <th></th>\n",
       "      <th></th>\n",
       "      <th></th>\n",
       "    </tr>\n",
       "  </thead>\n",
       "  <tbody>\n",
       "    <tr>\n",
       "      <th rowspan=\"5\" valign=\"top\">AAPL</th>\n",
       "      <th>2023-05-03 00:00:00+00:00</th>\n",
       "      <td>167.45</td>\n",
       "      <td>170.92</td>\n",
       "      <td>167.16</td>\n",
       "      <td>169.500</td>\n",
       "      <td>65136018</td>\n",
       "      <td>167.45</td>\n",
       "      <td>170.92</td>\n",
       "      <td>167.16</td>\n",
       "      <td>169.500</td>\n",
       "      <td>65136018</td>\n",
       "      <td>0.0</td>\n",
       "      <td>1.0</td>\n",
       "    </tr>\n",
       "    <tr>\n",
       "      <th>2023-05-04 00:00:00+00:00</th>\n",
       "      <td>165.79</td>\n",
       "      <td>167.04</td>\n",
       "      <td>164.31</td>\n",
       "      <td>164.890</td>\n",
       "      <td>81235427</td>\n",
       "      <td>165.79</td>\n",
       "      <td>167.04</td>\n",
       "      <td>164.31</td>\n",
       "      <td>164.890</td>\n",
       "      <td>81235427</td>\n",
       "      <td>0.0</td>\n",
       "      <td>1.0</td>\n",
       "    </tr>\n",
       "    <tr>\n",
       "      <th>2023-05-05 00:00:00+00:00</th>\n",
       "      <td>173.57</td>\n",
       "      <td>174.30</td>\n",
       "      <td>170.76</td>\n",
       "      <td>170.975</td>\n",
       "      <td>113453171</td>\n",
       "      <td>173.57</td>\n",
       "      <td>174.30</td>\n",
       "      <td>170.76</td>\n",
       "      <td>170.975</td>\n",
       "      <td>113453171</td>\n",
       "      <td>0.0</td>\n",
       "      <td>1.0</td>\n",
       "    </tr>\n",
       "    <tr>\n",
       "      <th>2023-05-08 00:00:00+00:00</th>\n",
       "      <td>173.50</td>\n",
       "      <td>173.85</td>\n",
       "      <td>172.11</td>\n",
       "      <td>172.480</td>\n",
       "      <td>55962793</td>\n",
       "      <td>173.50</td>\n",
       "      <td>173.85</td>\n",
       "      <td>172.11</td>\n",
       "      <td>172.480</td>\n",
       "      <td>55962793</td>\n",
       "      <td>0.0</td>\n",
       "      <td>1.0</td>\n",
       "    </tr>\n",
       "    <tr>\n",
       "      <th>2023-05-09 00:00:00+00:00</th>\n",
       "      <td>171.77</td>\n",
       "      <td>173.54</td>\n",
       "      <td>171.60</td>\n",
       "      <td>173.050</td>\n",
       "      <td>45326874</td>\n",
       "      <td>171.77</td>\n",
       "      <td>173.54</td>\n",
       "      <td>171.60</td>\n",
       "      <td>173.050</td>\n",
       "      <td>45326874</td>\n",
       "      <td>0.0</td>\n",
       "      <td>1.0</td>\n",
       "    </tr>\n",
       "  </tbody>\n",
       "</table>\n",
       "</div>"
      ],
      "text/plain": [
       "                                   close    high     low     open     volume  \\\n",
       "symbol date                                                                    \n",
       "AAPL   2023-05-03 00:00:00+00:00  167.45  170.92  167.16  169.500   65136018   \n",
       "       2023-05-04 00:00:00+00:00  165.79  167.04  164.31  164.890   81235427   \n",
       "       2023-05-05 00:00:00+00:00  173.57  174.30  170.76  170.975  113453171   \n",
       "       2023-05-08 00:00:00+00:00  173.50  173.85  172.11  172.480   55962793   \n",
       "       2023-05-09 00:00:00+00:00  171.77  173.54  171.60  173.050   45326874   \n",
       "\n",
       "                                  adjClose  adjHigh  adjLow  adjOpen  \\\n",
       "symbol date                                                            \n",
       "AAPL   2023-05-03 00:00:00+00:00    167.45   170.92  167.16  169.500   \n",
       "       2023-05-04 00:00:00+00:00    165.79   167.04  164.31  164.890   \n",
       "       2023-05-05 00:00:00+00:00    173.57   174.30  170.76  170.975   \n",
       "       2023-05-08 00:00:00+00:00    173.50   173.85  172.11  172.480   \n",
       "       2023-05-09 00:00:00+00:00    171.77   173.54  171.60  173.050   \n",
       "\n",
       "                                  adjVolume  divCash  splitFactor  \n",
       "symbol date                                                        \n",
       "AAPL   2023-05-03 00:00:00+00:00   65136018      0.0          1.0  \n",
       "       2023-05-04 00:00:00+00:00   81235427      0.0          1.0  \n",
       "       2023-05-05 00:00:00+00:00  113453171      0.0          1.0  \n",
       "       2023-05-08 00:00:00+00:00   55962793      0.0          1.0  \n",
       "       2023-05-09 00:00:00+00:00   45326874      0.0          1.0  "
      ]
     },
     "execution_count": 8,
     "metadata": {},
     "output_type": "execute_result"
    }
   ],
   "source": [
    "df.tail()"
   ]
  },
  {
   "cell_type": "code",
   "execution_count": 9,
   "id": "dd2073f2",
   "metadata": {},
   "outputs": [
    {
     "data": {
      "text/plain": [
       "(1257, 12)"
      ]
     },
     "execution_count": 9,
     "metadata": {},
     "output_type": "execute_result"
    }
   ],
   "source": [
    "df.shape"
   ]
  },
  {
   "cell_type": "code",
   "execution_count": 10,
   "id": "5db2dfc1",
   "metadata": {},
   "outputs": [
    {
     "data": {
      "text/plain": [
       "count    1257.000000\n",
       "mean      189.365235\n",
       "std        69.687200\n",
       "min       106.840000\n",
       "25%       144.570000\n",
       "50%       167.300000\n",
       "75%       209.680000\n",
       "max       506.090000\n",
       "Name: close, dtype: float64"
      ]
     },
     "execution_count": 10,
     "metadata": {},
     "output_type": "execute_result"
    }
   ],
   "source": [
    "df['close'].describe()"
   ]
  },
  {
   "cell_type": "code",
   "execution_count": 11,
   "id": "a7175c85",
   "metadata": {},
   "outputs": [],
   "source": [
    "# Plotting \n",
    "data=df.reset_index()['close']"
   ]
  },
  {
   "cell_type": "code",
   "execution_count": 12,
   "id": "d514295c",
   "metadata": {},
   "outputs": [
    {
     "data": {
      "text/plain": [
       "(1257,)"
      ]
     },
     "execution_count": 12,
     "metadata": {},
     "output_type": "execute_result"
    }
   ],
   "source": [
    "data.shape"
   ]
  },
  {
   "cell_type": "code",
   "execution_count": 13,
   "id": "c1c1c1e0",
   "metadata": {},
   "outputs": [
    {
     "data": {
      "text/plain": [
       "(0    188.59\n",
       " 1    188.15\n",
       " 2    186.44\n",
       " 3    188.18\n",
       " 4    186.99\n",
       " Name: close, dtype: float64,\n",
       " 1252    167.45\n",
       " 1253    165.79\n",
       " 1254    173.57\n",
       " 1255    173.50\n",
       " 1256    171.77\n",
       " Name: close, dtype: float64)"
      ]
     },
     "execution_count": 13,
     "metadata": {},
     "output_type": "execute_result"
    }
   ],
   "source": [
    "data.head(),data.tail()"
   ]
  },
  {
   "cell_type": "code",
   "execution_count": 14,
   "id": "42fc547a",
   "metadata": {},
   "outputs": [
    {
     "data": {
      "image/png": "[encoded data removed]",
      "text/plain": [
       "<Figure size 432x288 with 1 Axes>"
      ]
     },
     "metadata": {
      "needs_background": "light"
     },
     "output_type": "display_data"
    }
   ],
   "source": [
    "import matplotlib.pyplot as plt\n",
    "plt.plot(data)\n",
    "plt.show()"
   ]
  },
  {
   "cell_type": "markdown",
   "id": "c11a0f8e",
   "metadata": {},
   "source": [
    "# Preprocessing"
   ]
  },
  {
   "cell_type": "code",
   "execution_count": 15,
   "id": "f7dc5b71",
   "metadata": {},
   "outputs": [],
   "source": [
    "import numpy as np\n",
    "from sklearn.preprocessing import MinMaxScaler"
   ]
  },
  {
   "cell_type": "code",
   "execution_count": 16,
   "id": "e9e85870",
   "metadata": {},
   "outputs": [],
   "source": [
    "scaler=MinMaxScaler(feature_range=(0,1))\n",
    "data=scaler.fit_transform(np.array(data).reshape(-1,1))"
   ]
  },
  {
   "cell_type": "code",
   "execution_count": 17,
   "id": "8a33a778",
   "metadata": {},
   "outputs": [
    {
     "data": {
      "text/plain": [
       "array([[0.20475892],\n",
       "       [0.20365686],\n",
       "       [0.19937383],\n",
       "       [0.203732  ],\n",
       "       [0.20075141],\n",
       "       [0.19904822],\n",
       "       [0.20235441],\n",
       "       [0.20117721],\n",
       "       [0.20418284],\n",
       "       [0.20365686]])"
      ]
     },
     "execution_count": 17,
     "metadata": {},
     "output_type": "execute_result"
    }
   ],
   "source": [
    "data[:10]"
   ]
  },
  {
   "cell_type": "code",
   "execution_count": 18,
   "id": "7d28ee55",
   "metadata": {},
   "outputs": [],
   "source": [
    "# Splitting data\n",
    "training_size=int(len(data)*0.7)\n",
    "test_size=int(len(data)*0.3)\n",
    "train_data,test_data=data[:training_size,:],data[training_size:,:1]"
   ]
  },
  {
   "cell_type": "code",
   "execution_count": 19,
   "id": "5e5a491b",
   "metadata": {},
   "outputs": [
    {
     "data": {
      "text/plain": [
       "((879, 1), (378, 1))"
      ]
     },
     "execution_count": 19,
     "metadata": {},
     "output_type": "execute_result"
    }
   ],
   "source": [
    "train_data.shape,test_data.shape"
   ]
  },
  {
   "cell_type": "code",
   "execution_count": 20,
   "id": "58911b4e",
   "metadata": {},
   "outputs": [],
   "source": [
    "def create_dataset(dataset,time_step=1):\n",
    "    X,y=[],[]\n",
    "    for i in range(len(dataset)-time_step-1):\n",
    "        a=dataset[i:(i+time_step),0]\n",
    "        X.append(a)\n",
    "        y.append(dataset[i+time_step,0])\n",
    "    return np.array(X),np.array(y)"
   ]
  },
  {
   "cell_type": "code",
   "execution_count": 21,
   "id": "3ca7cb65",
   "metadata": {},
   "outputs": [],
   "source": [
    "time_step=80\n",
    "X_train,y_train=create_dataset(train_data,time_step)\n",
    "X_test,y_test=create_dataset(test_data,time_step)"
   ]
  },
  {
   "cell_type": "code",
   "execution_count": 22,
   "id": "f7ef28bb",
   "metadata": {},
   "outputs": [
    {
     "data": {
      "text/plain": [
       "((798, 80), (798,))"
      ]
     },
     "execution_count": 22,
     "metadata": {},
     "output_type": "execute_result"
    }
   ],
   "source": [
    "X_train.shape,y_train.shape"
   ]
  },
  {
   "cell_type": "markdown",
   "id": "ed031492",
   "metadata": {},
   "source": [
    "There will be 80 features. Meaning 80 previous day will determine the output(future value of stock) of next day."
   ]
  },
  {
   "cell_type": "code",
   "execution_count": 23,
   "id": "c42d33c9",
   "metadata": {},
   "outputs": [],
   "source": [
    "# Reshaping\n",
    "X_train=X_train.reshape(X_train.shape[0],X_train.shape[1],1)\n",
    "X_test=X_test.reshape(X_test.shape[0],X_test.shape[1],1)"
   ]
  },
  {
   "cell_type": "code",
   "execution_count": 24,
   "id": "ddcad6ba",
   "metadata": {},
   "outputs": [],
   "source": [
    "# Building Model"
   ]
  },
  {
   "cell_type": "code",
   "execution_count": 25,
   "id": "d78ead9f",
   "metadata": {},
   "outputs": [],
   "source": [
    "import tensorflow as tf\n",
    "from tensorflow.keras.models import Sequential\n",
    "from tensorflow.keras.layers import Dense\n",
    "from tensorflow.keras.layers import LSTM\n",
    "from tensorflow.keras.layers import Conv1D"
   ]
  },
  {
   "cell_type": "code",
   "execution_count": 26,
   "id": "2d85c144",
   "metadata": {},
   "outputs": [],
   "source": [
    "model=Sequential()\n",
    "model.add(Conv1D(filters=64,activation='relu',input_shape=(80,1),kernel_size=3))\n",
    "model.add(LSTM(32,return_sequences=True))\n",
    "model.add(LSTM(32,return_sequences=True))\n",
    "model.add(LSTM(32))\n",
    "model.add(Dense(10,activation='relu'))\n",
    "model.add(Dense(1))"
   ]
  },
  {
   "cell_type": "code",
   "execution_count": 27,
   "id": "1120af09",
   "metadata": {},
   "outputs": [],
   "source": [
    "model.compile(loss='mean_squared_error',optimizer='adam')"
   ]
  },
  {
   "cell_type": "code",
   "execution_count": 28,
   "id": "b29e47ac",
   "metadata": {},
   "outputs": [
    {
     "name": "stdout",
     "output_type": "stream",
     "text": [
      "Model: \"sequential\"\n",
      "_________________________________________________________________\n",
      " Layer (type)                Output Shape              Param #   \n",
      "=================================================================\n",
      " conv1d (Conv1D)             (None, 78, 64)            256       \n",
      "                                                                 \n",
      " lstm (LSTM)                 (None, 78, 32)            12416     \n",
      "                                                                 \n",
      " lstm_1 (LSTM)               (None, 78, 32)            8320      \n",
      "                                                                 \n",
      " lstm_2 (LSTM)               (None, 32)                8320      \n",
      "                                                                 \n",
      " dense (Dense)               (None, 10)                330       \n",
      "                                                                 \n",
      " dense_1 (Dense)             (None, 1)                 11        \n",
      "                                                                 \n",
      "=================================================================\n",
      "Total params: 29,653\n",
      "Trainable params: 29,653\n",
      "Non-trainable params: 0\n",
      "_________________________________________________________________\n"
     ]
    }
   ],
   "source": [
    "model.summary()"
   ]
  },
  {
   "cell_type": "code",
   "execution_count": 29,
   "id": "1a6fb683",
   "metadata": {},
   "outputs": [
    {
     "name": "stdout",
     "output_type": "stream",
     "text": [
      "Epoch 1/100\n",
      "25/25 [==============================] - 10s 172ms/step - loss: 0.0482 - val_loss: 0.0045\n",
      "Epoch 2/100\n",
      "25/25 [==============================] - 3s 114ms/step - loss: 0.0136 - val_loss: 0.0016\n",
      "Epoch 3/100\n",
      "25/25 [==============================] - 3s 122ms/step - loss: 0.0091 - val_loss: 6.3313e-04\n",
      "Epoch 4/100\n",
      "25/25 [==============================] - 3s 124ms/step - loss: 0.0071 - val_loss: 8.3536e-04\n",
      "Epoch 5/100\n",
      "25/25 [==============================] - 3s 116ms/step - loss: 0.0056 - val_loss: 4.0851e-04\n",
      "Epoch 6/100\n",
      "25/25 [==============================] - 3s 114ms/step - loss: 0.0053 - val_loss: 8.4187e-04\n",
      "Epoch 7/100\n",
      "25/25 [==============================] - 3s 116ms/step - loss: 0.0045 - val_loss: 4.1100e-04\n",
      "Epoch 8/100\n",
      "25/25 [==============================] - 3s 123ms/step - loss: 0.0041 - val_loss: 5.2068e-04\n",
      "Epoch 9/100\n",
      "25/25 [==============================] - 3s 119ms/step - loss: 0.0033 - val_loss: 3.6505e-04\n",
      "Epoch 10/100\n",
      "25/25 [==============================] - 3s 116ms/step - loss: 0.0029 - val_loss: 8.4494e-04\n",
      "Epoch 11/100\n",
      "25/25 [==============================] - 3s 127ms/step - loss: 0.0049 - val_loss: 4.4327e-04\n",
      "Epoch 12/100\n",
      "25/25 [==============================] - 3s 125ms/step - loss: 0.0037 - val_loss: 0.0010\n",
      "Epoch 13/100\n",
      "25/25 [==============================] - 3s 126ms/step - loss: 0.0030 - val_loss: 7.4096e-04\n",
      "Epoch 14/100\n",
      "25/25 [==============================] - 3s 122ms/step - loss: 0.0026 - val_loss: 3.3172e-04\n",
      "Epoch 15/100\n",
      "25/25 [==============================] - 3s 125ms/step - loss: 0.0029 - val_loss: 4.0822e-04\n",
      "Epoch 16/100\n",
      "25/25 [==============================] - 3s 119ms/step - loss: 0.0025 - val_loss: 3.0130e-04\n",
      "Epoch 17/100\n",
      "25/25 [==============================] - 3s 116ms/step - loss: 0.0031 - val_loss: 3.2075e-04\n",
      "Epoch 18/100\n",
      "25/25 [==============================] - 3s 120ms/step - loss: 0.0024 - val_loss: 3.7182e-04\n",
      "Epoch 19/100\n",
      "25/25 [==============================] - 3s 125ms/step - loss: 0.0030 - val_loss: 4.2311e-04\n",
      "Epoch 20/100\n",
      "25/25 [==============================] - 3s 123ms/step - loss: 0.0022 - val_loss: 3.3389e-04\n",
      "Epoch 21/100\n",
      "25/25 [==============================] - 3s 124ms/step - loss: 0.0023 - val_loss: 3.8874e-04\n",
      "Epoch 22/100\n",
      "25/25 [==============================] - 3s 125ms/step - loss: 0.0030 - val_loss: 0.0012\n",
      "Epoch 23/100\n",
      "25/25 [==============================] - 3s 126ms/step - loss: 0.0029 - val_loss: 7.8442e-04\n",
      "Epoch 24/100\n",
      "25/25 [==============================] - 3s 129ms/step - loss: 0.0036 - val_loss: 4.1014e-04\n",
      "Epoch 25/100\n",
      "25/25 [==============================] - 3s 112ms/step - loss: 0.0027 - val_loss: 3.3266e-04\n",
      "Epoch 26/100\n",
      "25/25 [==============================] - 3s 106ms/step - loss: 0.0020 - val_loss: 3.0214e-04\n",
      "Epoch 27/100\n",
      "25/25 [==============================] - 3s 118ms/step - loss: 0.0019 - val_loss: 5.4222e-04\n",
      "Epoch 28/100\n",
      "25/25 [==============================] - 3s 141ms/step - loss: 0.0021 - val_loss: 3.2581e-04\n",
      "Epoch 29/100\n",
      "25/25 [==============================] - 3s 137ms/step - loss: 0.0035 - val_loss: 7.6622e-04\n",
      "Epoch 30/100\n",
      "25/25 [==============================] - 3s 138ms/step - loss: 0.0023 - val_loss: 6.0547e-04\n",
      "Epoch 31/100\n",
      "25/25 [==============================] - 3s 124ms/step - loss: 0.0020 - val_loss: 4.3227e-04\n",
      "Epoch 32/100\n",
      "25/25 [==============================] - 3s 119ms/step - loss: 0.0021 - val_loss: 3.4963e-04\n",
      "Epoch 33/100\n",
      "25/25 [==============================] - 3s 114ms/step - loss: 0.0015 - val_loss: 2.9749e-04\n",
      "Epoch 34/100\n",
      "25/25 [==============================] - 3s 113ms/step - loss: 0.0017 - val_loss: 4.5933e-04\n",
      "Epoch 35/100\n",
      "25/25 [==============================] - 3s 115ms/step - loss: 0.0023 - val_loss: 4.5525e-04\n",
      "Epoch 36/100\n",
      "25/25 [==============================] - 3s 122ms/step - loss: 0.0028 - val_loss: 4.3351e-04\n",
      "Epoch 37/100\n",
      "25/25 [==============================] - 3s 118ms/step - loss: 0.0024 - val_loss: 2.8677e-04\n",
      "Epoch 38/100\n",
      "25/25 [==============================] - 3s 122ms/step - loss: 0.0016 - val_loss: 4.1694e-04\n",
      "Epoch 39/100\n",
      "25/25 [==============================] - 3s 118ms/step - loss: 0.0019 - val_loss: 3.0743e-04\n",
      "Epoch 40/100\n",
      "25/25 [==============================] - 3s 110ms/step - loss: 0.0015 - val_loss: 2.6841e-04\n",
      "Epoch 41/100\n",
      "25/25 [==============================] - 3s 112ms/step - loss: 0.0015 - val_loss: 3.1141e-04\n",
      "Epoch 42/100\n",
      "25/25 [==============================] - 3s 111ms/step - loss: 0.0025 - val_loss: 3.0202e-04\n",
      "Epoch 43/100\n",
      "25/25 [==============================] - 3s 110ms/step - loss: 0.0038 - val_loss: 4.6236e-04\n",
      "Epoch 44/100\n",
      "25/25 [==============================] - 3s 115ms/step - loss: 0.0032 - val_loss: 2.4802e-04\n",
      "Epoch 45/100\n",
      "25/25 [==============================] - 3s 111ms/step - loss: 0.0023 - val_loss: 2.4269e-04\n",
      "Epoch 46/100\n",
      "25/25 [==============================] - 3s 113ms/step - loss: 0.0019 - val_loss: 2.5204e-04\n",
      "Epoch 47/100\n",
      "25/25 [==============================] - 3s 111ms/step - loss: 0.0017 - val_loss: 3.1789e-04\n",
      "Epoch 48/100\n",
      "25/25 [==============================] - 3s 113ms/step - loss: 0.0016 - val_loss: 2.4365e-04\n",
      "Epoch 49/100\n",
      "25/25 [==============================] - 3s 112ms/step - loss: 0.0015 - val_loss: 2.7933e-04\n",
      "Epoch 50/100\n",
      "25/25 [==============================] - 3s 117ms/step - loss: 0.0014 - val_loss: 3.7535e-04\n",
      "Epoch 51/100\n",
      "25/25 [==============================] - 3s 116ms/step - loss: 0.0019 - val_loss: 2.3320e-04\n",
      "Epoch 52/100\n",
      "25/25 [==============================] - 3s 113ms/step - loss: 0.0016 - val_loss: 2.8107e-04\n",
      "Epoch 53/100\n",
      "25/25 [==============================] - 3s 114ms/step - loss: 0.0012 - val_loss: 2.3620e-04\n",
      "Epoch 54/100\n",
      "25/25 [==============================] - 3s 120ms/step - loss: 0.0016 - val_loss: 2.9613e-04\n",
      "Epoch 55/100\n",
      "25/25 [==============================] - 3s 124ms/step - loss: 0.0031 - val_loss: 3.6552e-04\n",
      "Epoch 56/100\n",
      "25/25 [==============================] - 3s 115ms/step - loss: 0.0021 - val_loss: 2.2139e-04\n",
      "Epoch 57/100\n",
      "25/25 [==============================] - 3s 106ms/step - loss: 0.0021 - val_loss: 2.3987e-04\n",
      "Epoch 58/100\n",
      "25/25 [==============================] - 3s 105ms/step - loss: 0.0016 - val_loss: 2.3153e-04\n",
      "Epoch 59/100\n",
      "25/25 [==============================] - 3s 106ms/step - loss: 0.0014 - val_loss: 2.2828e-04\n",
      "Epoch 60/100\n",
      "25/25 [==============================] - 3s 104ms/step - loss: 0.0015 - val_loss: 2.1947e-04\n",
      "Epoch 61/100\n",
      "25/25 [==============================] - 3s 116ms/step - loss: 0.0012 - val_loss: 2.1068e-04\n",
      "Epoch 62/100\n",
      "25/25 [==============================] - 3s 118ms/step - loss: 0.0013 - val_loss: 4.0995e-04\n",
      "Epoch 63/100\n",
      "25/25 [==============================] - 3s 105ms/step - loss: 0.0018 - val_loss: 2.8801e-04\n",
      "Epoch 64/100\n",
      "25/25 [==============================] - 3s 107ms/step - loss: 0.0017 - val_loss: 2.2602e-04\n",
      "Epoch 65/100\n",
      "25/25 [==============================] - 3s 107ms/step - loss: 0.0012 - val_loss: 2.0941e-04\n",
      "Epoch 66/100\n",
      "25/25 [==============================] - 3s 106ms/step - loss: 0.0013 - val_loss: 2.1336e-04\n",
      "Epoch 67/100\n",
      "25/25 [==============================] - 3s 106ms/step - loss: 0.0014 - val_loss: 2.4582e-04\n",
      "Epoch 68/100\n",
      "25/25 [==============================] - 3s 104ms/step - loss: 0.0019 - val_loss: 4.0273e-04\n",
      "Epoch 69/100\n",
      "25/25 [==============================] - 3s 106ms/step - loss: 0.0020 - val_loss: 3.3711e-04\n",
      "Epoch 70/100\n",
      "25/25 [==============================] - 3s 105ms/step - loss: 0.0015 - val_loss: 2.3092e-04\n",
      "Epoch 71/100\n",
      "25/25 [==============================] - 3s 106ms/step - loss: 0.0018 - val_loss: 1.9428e-04\n",
      "Epoch 72/100\n",
      "25/25 [==============================] - 3s 107ms/step - loss: 0.0014 - val_loss: 1.8968e-04\n",
      "Epoch 73/100\n",
      "25/25 [==============================] - 3s 106ms/step - loss: 0.0013 - val_loss: 2.0360e-04\n",
      "Epoch 74/100\n",
      "25/25 [==============================] - 3s 105ms/step - loss: 0.0012 - val_loss: 3.4302e-04\n",
      "Epoch 75/100\n",
      "25/25 [==============================] - 3s 106ms/step - loss: 0.0011 - val_loss: 2.2104e-04\n",
      "Epoch 76/100\n",
      "25/25 [==============================] - 3s 107ms/step - loss: 0.0019 - val_loss: 2.5796e-04\n",
      "Epoch 77/100\n",
      "25/25 [==============================] - 3s 107ms/step - loss: 0.0018 - val_loss: 2.0218e-04\n",
      "Epoch 78/100\n"
     ]
    },
    {
     "name": "stdout",
     "output_type": "stream",
     "text": [
      "25/25 [==============================] - 3s 101ms/step - loss: 0.0012 - val_loss: 2.0685e-04\n",
      "Epoch 79/100\n",
      "25/25 [==============================] - 3s 101ms/step - loss: 0.0020 - val_loss: 0.0011\n",
      "Epoch 80/100\n",
      "25/25 [==============================] - 3s 102ms/step - loss: 0.0017 - val_loss: 4.7433e-04\n",
      "Epoch 81/100\n",
      "25/25 [==============================] - 3s 101ms/step - loss: 0.0013 - val_loss: 1.9967e-04\n",
      "Epoch 82/100\n",
      "25/25 [==============================] - 3s 101ms/step - loss: 0.0012 - val_loss: 2.1363e-04\n",
      "Epoch 83/100\n",
      "25/25 [==============================] - 3s 101ms/step - loss: 0.0013 - val_loss: 2.2265e-04\n",
      "Epoch 84/100\n",
      "25/25 [==============================] - 3s 102ms/step - loss: 0.0011 - val_loss: 2.1186e-04\n",
      "Epoch 85/100\n",
      "25/25 [==============================] - 3s 102ms/step - loss: 0.0014 - val_loss: 5.3859e-04\n",
      "Epoch 86/100\n",
      "25/25 [==============================] - 3s 110ms/step - loss: 0.0013 - val_loss: 1.7639e-04\n",
      "Epoch 87/100\n",
      "25/25 [==============================] - 3s 114ms/step - loss: 0.0012 - val_loss: 1.7396e-04\n",
      "Epoch 88/100\n",
      "25/25 [==============================] - 3s 103ms/step - loss: 0.0010 - val_loss: 3.2019e-04\n",
      "Epoch 89/100\n",
      "25/25 [==============================] - 3s 102ms/step - loss: 0.0014 - val_loss: 2.4676e-04\n",
      "Epoch 90/100\n",
      "25/25 [==============================] - 3s 102ms/step - loss: 0.0013 - val_loss: 1.7171e-04\n",
      "Epoch 91/100\n",
      "25/25 [==============================] - 3s 101ms/step - loss: 0.0011 - val_loss: 2.5250e-04\n",
      "Epoch 92/100\n",
      "25/25 [==============================] - 3s 102ms/step - loss: 0.0012 - val_loss: 3.0510e-04\n",
      "Epoch 93/100\n",
      "25/25 [==============================] - 3s 101ms/step - loss: 0.0015 - val_loss: 1.9923e-04\n",
      "Epoch 94/100\n",
      "25/25 [==============================] - 3s 101ms/step - loss: 0.0016 - val_loss: 3.3404e-04\n",
      "Epoch 95/100\n",
      "25/25 [==============================] - 3s 101ms/step - loss: 0.0015 - val_loss: 5.7088e-04\n",
      "Epoch 96/100\n",
      "25/25 [==============================] - 3s 101ms/step - loss: 0.0013 - val_loss: 1.8075e-04\n",
      "Epoch 97/100\n",
      "25/25 [==============================] - 3s 103ms/step - loss: 0.0018 - val_loss: 6.8241e-04\n",
      "Epoch 98/100\n",
      "25/25 [==============================] - 3s 102ms/step - loss: 0.0015 - val_loss: 1.7072e-04\n",
      "Epoch 99/100\n",
      "25/25 [==============================] - 3s 103ms/step - loss: 0.0016 - val_loss: 6.5080e-04\n",
      "Epoch 100/100\n",
      "25/25 [==============================] - 3s 103ms/step - loss: 0.0014 - val_loss: 1.6279e-04\n"
     ]
    },
    {
     "data": {
      "text/plain": [
       "<keras.callbacks.History at 0x150ddfa0340>"
      ]
     },
     "execution_count": 29,
     "metadata": {},
     "output_type": "execute_result"
    }
   ],
   "source": [
    "model.fit(X_train,y_train,validation_data=(X_test,y_test),epochs=100,batch_size=32,verbose=1)"
   ]
  },
  {
   "cell_type": "code",
   "execution_count": 30,
   "id": "7632fc5c",
   "metadata": {},
   "outputs": [
    {
     "name": "stdout",
     "output_type": "stream",
     "text": [
      "25/25 [==============================] - 2s 25ms/step\n",
      "10/10 [==============================] - 0s 24ms/step\n"
     ]
    }
   ],
   "source": [
    "train_pred=model.predict(X_train)\n",
    "test_pred=model.predict(X_test)"
   ]
  },
  {
   "cell_type": "code",
   "execution_count": 31,
   "id": "32ec1844",
   "metadata": {},
   "outputs": [],
   "source": [
    "train_pred=scaler.inverse_transform(train_pred)\n",
    "test_pred=scaler.inverse_transform(test_pred)"
   ]
  },
  {
   "cell_type": "code",
   "execution_count": 32,
   "id": "d9f22acb",
   "metadata": {},
   "outputs": [
    {
     "data": {
      "text/plain": [
       "220.83330316058053"
      ]
     },
     "execution_count": 32,
     "metadata": {},
     "output_type": "execute_result"
    }
   ],
   "source": [
    "import math\n",
    "from sklearn.metrics import mean_squared_error\n",
    "math.sqrt(mean_squared_error(y_train,train_pred))"
   ]
  },
  {
   "cell_type": "code",
   "execution_count": 33,
   "id": "41dae1a2",
   "metadata": {},
   "outputs": [
    {
     "data": {
      "text/plain": [
       "151.89895402594743"
      ]
     },
     "execution_count": 33,
     "metadata": {},
     "output_type": "execute_result"
    }
   ],
   "source": [
    "math.sqrt(mean_squared_error(y_test,test_pred))"
   ]
  },
  {
   "cell_type": "code",
   "execution_count": 34,
   "id": "3037a071",
   "metadata": {},
   "outputs": [
    {
     "data": {
      "image/png": "[encoded data removed]",
      "text/plain": [
       "<Figure size 432x288 with 1 Axes>"
      ]
     },
     "metadata": {
      "needs_background": "light"
     },
     "output_type": "display_data"
    }
   ],
   "source": [
    "look_back=80\n",
    "trainPredictPlot = np.empty_like(data)\n",
    "trainPredictPlot[:, :] = np.nan\n",
    "trainPredictPlot[look_back:len(train_pred)+look_back, :] = train_pred\n",
    "# shift test predictions for plotting\n",
    "testPredictPlot = np.empty_like(data)\n",
    "testPredictPlot[:, :] = np.nan\n",
    "testPredictPlot[len(train_pred)+(look_back*2)+1:len(data)-1, :] = test_pred\n",
    "# plot baseline and predictions\n",
    "plt.plot(scaler.inverse_transform(data))\n",
    "plt.plot(trainPredictPlot)\n",
    "plt.plot(testPredictPlot)\n",
    "plt.show()"
   ]
  },
  {
   "cell_type": "code",
   "execution_count": 35,
   "id": "e023e305",
   "metadata": {},
   "outputs": [],
   "source": [
    "# Future Prediction"
   ]
  },
  {
   "cell_type": "code",
   "execution_count": 36,
   "id": "222a6458",
   "metadata": {},
   "outputs": [
    {
     "data": {
      "text/plain": [
       "378"
      ]
     },
     "execution_count": 36,
     "metadata": {},
     "output_type": "execute_result"
    }
   ],
   "source": [
    "len(test_data)"
   ]
  },
  {
   "cell_type": "code",
   "execution_count": 37,
   "id": "d2ff2046",
   "metadata": {},
   "outputs": [],
   "source": [
    "x_input=test_data[298:].reshape(1,-1)"
   ]
  },
  {
   "cell_type": "code",
   "execution_count": 38,
   "id": "f3494141",
   "metadata": {},
   "outputs": [
    {
     "data": {
      "text/plain": [
       "(1, 80)"
      ]
     },
     "execution_count": 38,
     "metadata": {},
     "output_type": "execute_result"
    }
   ],
   "source": [
    "x_input.shape"
   ]
  },
  {
   "cell_type": "code",
   "execution_count": 39,
   "id": "684f1d7f",
   "metadata": {},
   "outputs": [],
   "source": [
    "temp_input=list(x_input)\n",
    "temp_input=temp_input[0].tolist()"
   ]
  },
  {
   "cell_type": "code",
   "execution_count": 40,
   "id": "a511af69",
   "metadata": {},
   "outputs": [
    {
     "data": {
      "text/plain": [
       "[0.0699311208515967,\n",
       " 0.0728866624921728,\n",
       " 0.07105823418910456,\n",
       " 0.07120851596743893,\n",
       " 0.07772072636192856,\n",
       " 0.08583594239198494,\n",
       " 0.08939261114589853,\n",
       " 0.08771446462116467,\n",
       " 0.09297432686286783,\n",
       " 0.09790857858484658]"
      ]
     },
     "execution_count": 40,
     "metadata": {},
     "output_type": "execute_result"
    }
   ],
   "source": [
    "temp_input[:10]"
   ]
  },
  {
   "cell_type": "code",
   "execution_count": 41,
   "id": "975edcdc",
   "metadata": {},
   "outputs": [
    {
     "name": "stdout",
     "output_type": "stream",
     "text": [
      "[0.15826127]\n",
      "81\n",
      "1 day input [0.07288666 0.07105823 0.07120852 0.07772073 0.08583594 0.08939261\n",
      " 0.08771446 0.09297433 0.09790858 0.09056982 0.09380088 0.09665623\n",
      " 0.11015654 0.11937383 0.11243582 0.11974953 0.11291171 0.11028178\n",
      " 0.11063244 0.11774577 0.11611772 0.12145272 0.11739512 0.11448967\n",
      " 0.10429555 0.10537257 0.10659987 0.09986224 0.10289292 0.10161553\n",
      " 0.09635567 0.09785848 0.11068253 0.11769568 0.11211021 0.11529117\n",
      " 0.10958046 0.10434565 0.1092799  0.11458986 0.11559173 0.12275517\n",
      " 0.12062617 0.12663745 0.13134627 0.12771446 0.13046963 0.13377583\n",
      " 0.12884158 0.12726362 0.13507827 0.13906074 0.14542267 0.14860363\n",
      " 0.1472511  0.14256731 0.14482154 0.13823419 0.13515341 0.13340013\n",
      " 0.14707577 0.14619912 0.14624922 0.14935504 0.15226049 0.14980589\n",
      " 0.14572323 0.14649969 0.14259236 0.14256731 0.15421415 0.15739512\n",
      " 0.15716969 0.15453976 0.15180964 0.14765185 0.16713838 0.16696306\n",
      " 0.16262993 0.15826127]\n",
      "1 day output [[0.1595917]]\n",
      "2 day input [0.07105823 0.07120852 0.07772073 0.08583594 0.08939261 0.08771446\n",
      " 0.09297433 0.09790858 0.09056982 0.09380088 0.09665623 0.11015654\n",
      " 0.11937383 0.11243582 0.11974953 0.11291171 0.11028178 0.11063244\n",
      " 0.11774577 0.11611772 0.12145272 0.11739512 0.11448967 0.10429555\n",
      " 0.10537257 0.10659987 0.09986224 0.10289292 0.10161553 0.09635567\n",
      " 0.09785848 0.11068253 0.11769568 0.11211021 0.11529117 0.10958046\n",
      " 0.10434565 0.1092799  0.11458986 0.11559173 0.12275517 0.12062617\n",
      " 0.12663745 0.13134627 0.12771446 0.13046963 0.13377583 0.12884158\n",
      " 0.12726362 0.13507827 0.13906074 0.14542267 0.14860363 0.1472511\n",
      " 0.14256731 0.14482154 0.13823419 0.13515341 0.13340013 0.14707577\n",
      " 0.14619912 0.14624922 0.14935504 0.15226049 0.14980589 0.14572323\n",
      " 0.14649969 0.14259236 0.14256731 0.15421415 0.15739512 0.15716969\n",
      " 0.15453976 0.15180964 0.14765185 0.16713838 0.16696306 0.16262993\n",
      " 0.15826127 0.1595917 ]\n",
      "2 day output [[0.16012697]]\n",
      "3 day input [0.07120852 0.07772073 0.08583594 0.08939261 0.08771446 0.09297433\n",
      " 0.09790858 0.09056982 0.09380088 0.09665623 0.11015654 0.11937383\n",
      " 0.11243582 0.11974953 0.11291171 0.11028178 0.11063244 0.11774577\n",
      " 0.11611772 0.12145272 0.11739512 0.11448967 0.10429555 0.10537257\n",
      " 0.10659987 0.09986224 0.10289292 0.10161553 0.09635567 0.09785848\n",
      " 0.11068253 0.11769568 0.11211021 0.11529117 0.10958046 0.10434565\n",
      " 0.1092799  0.11458986 0.11559173 0.12275517 0.12062617 0.12663745\n",
      " 0.13134627 0.12771446 0.13046963 0.13377583 0.12884158 0.12726362\n",
      " 0.13507827 0.13906074 0.14542267 0.14860363 0.1472511  0.14256731\n",
      " 0.14482154 0.13823419 0.13515341 0.13340013 0.14707577 0.14619912\n",
      " 0.14624922 0.14935504 0.15226049 0.14980589 0.14572323 0.14649969\n",
      " 0.14259236 0.14256731 0.15421415 0.15739512 0.15716969 0.15453976\n",
      " 0.15180964 0.14765185 0.16713838 0.16696306 0.16262993 0.15826127\n",
      " 0.1595917  0.16012697]\n",
      "3 day output [[0.16037]]\n",
      "4 day input [0.07772073 0.08583594 0.08939261 0.08771446 0.09297433 0.09790858\n",
      " 0.09056982 0.09380088 0.09665623 0.11015654 0.11937383 0.11243582\n",
      " 0.11974953 0.11291171 0.11028178 0.11063244 0.11774577 0.11611772\n",
      " 0.12145272 0.11739512 0.11448967 0.10429555 0.10537257 0.10659987\n",
      " 0.09986224 0.10289292 0.10161553 0.09635567 0.09785848 0.11068253\n",
      " 0.11769568 0.11211021 0.11529117 0.10958046 0.10434565 0.1092799\n",
      " 0.11458986 0.11559173 0.12275517 0.12062617 0.12663745 0.13134627\n",
      " 0.12771446 0.13046963 0.13377583 0.12884158 0.12726362 0.13507827\n",
      " 0.13906074 0.14542267 0.14860363 0.1472511  0.14256731 0.14482154\n",
      " 0.13823419 0.13515341 0.13340013 0.14707577 0.14619912 0.14624922\n",
      " 0.14935504 0.15226049 0.14980589 0.14572323 0.14649969 0.14259236\n",
      " 0.14256731 0.15421415 0.15739512 0.15716969 0.15453976 0.15180964\n",
      " 0.14765185 0.16713838 0.16696306 0.16262993 0.15826127 0.1595917\n",
      " 0.16012697 0.16037001]\n",
      "4 day output [[0.16050228]]\n",
      "5 day input [0.08583594 0.08939261 0.08771446 0.09297433 0.09790858 0.09056982\n",
      " 0.09380088 0.09665623 0.11015654 0.11937383 0.11243582 0.11974953\n",
      " 0.11291171 0.11028178 0.11063244 0.11774577 0.11611772 0.12145272\n",
      " 0.11739512 0.11448967 0.10429555 0.10537257 0.10659987 0.09986224\n",
      " 0.10289292 0.10161553 0.09635567 0.09785848 0.11068253 0.11769568\n",
      " 0.11211021 0.11529117 0.10958046 0.10434565 0.1092799  0.11458986\n",
      " 0.11559173 0.12275517 0.12062617 0.12663745 0.13134627 0.12771446\n",
      " 0.13046963 0.13377583 0.12884158 0.12726362 0.13507827 0.13906074\n",
      " 0.14542267 0.14860363 0.1472511  0.14256731 0.14482154 0.13823419\n",
      " 0.13515341 0.13340013 0.14707577 0.14619912 0.14624922 0.14935504\n",
      " 0.15226049 0.14980589 0.14572323 0.14649969 0.14259236 0.14256731\n",
      " 0.15421415 0.15739512 0.15716969 0.15453976 0.15180964 0.14765185\n",
      " 0.16713838 0.16696306 0.16262993 0.15826127 0.1595917  0.16012697\n",
      " 0.16037001 0.16050228]\n",
      "5 day output [[0.1605914]]\n",
      "6 day input [0.08939261 0.08771446 0.09297433 0.09790858 0.09056982 0.09380088\n",
      " 0.09665623 0.11015654 0.11937383 0.11243582 0.11974953 0.11291171\n",
      " 0.11028178 0.11063244 0.11774577 0.11611772 0.12145272 0.11739512\n",
      " 0.11448967 0.10429555 0.10537257 0.10659987 0.09986224 0.10289292\n",
      " 0.10161553 0.09635567 0.09785848 0.11068253 0.11769568 0.11211021\n",
      " 0.11529117 0.10958046 0.10434565 0.1092799  0.11458986 0.11559173\n",
      " 0.12275517 0.12062617 0.12663745 0.13134627 0.12771446 0.13046963\n",
      " 0.13377583 0.12884158 0.12726362 0.13507827 0.13906074 0.14542267\n",
      " 0.14860363 0.1472511  0.14256731 0.14482154 0.13823419 0.13515341\n",
      " 0.13340013 0.14707577 0.14619912 0.14624922 0.14935504 0.15226049\n",
      " 0.14980589 0.14572323 0.14649969 0.14259236 0.14256731 0.15421415\n",
      " 0.15739512 0.15716969 0.15453976 0.15180964 0.14765185 0.16713838\n",
      " 0.16696306 0.16262993 0.15826127 0.1595917  0.16012697 0.16037001\n",
      " 0.16050228 0.16059139]\n",
      "6 day output [[0.16066235]]\n",
      "7 day input [0.08771446 0.09297433 0.09790858 0.09056982 0.09380088 0.09665623\n",
      " 0.11015654 0.11937383 0.11243582 0.11974953 0.11291171 0.11028178\n",
      " 0.11063244 0.11774577 0.11611772 0.12145272 0.11739512 0.11448967\n",
      " 0.10429555 0.10537257 0.10659987 0.09986224 0.10289292 0.10161553\n",
      " 0.09635567 0.09785848 0.11068253 0.11769568 0.11211021 0.11529117\n",
      " 0.10958046 0.10434565 0.1092799  0.11458986 0.11559173 0.12275517\n",
      " 0.12062617 0.12663745 0.13134627 0.12771446 0.13046963 0.13377583\n",
      " 0.12884158 0.12726362 0.13507827 0.13906074 0.14542267 0.14860363\n",
      " 0.1472511  0.14256731 0.14482154 0.13823419 0.13515341 0.13340013\n",
      " 0.14707577 0.14619912 0.14624922 0.14935504 0.15226049 0.14980589\n",
      " 0.14572323 0.14649969 0.14259236 0.14256731 0.15421415 0.15739512\n",
      " 0.15716969 0.15453976 0.15180964 0.14765185 0.16713838 0.16696306\n",
      " 0.16262993 0.15826127 0.1595917  0.16012697 0.16037001 0.16050228\n",
      " 0.16059139 0.16066235]\n",
      "7 day output [[0.16072443]]\n",
      "8 day input [0.09297433 0.09790858 0.09056982 0.09380088 0.09665623 0.11015654\n",
      " 0.11937383 0.11243582 0.11974953 0.11291171 0.11028178 0.11063244\n",
      " 0.11774577 0.11611772 0.12145272 0.11739512 0.11448967 0.10429555\n",
      " 0.10537257 0.10659987 0.09986224 0.10289292 0.10161553 0.09635567\n",
      " 0.09785848 0.11068253 0.11769568 0.11211021 0.11529117 0.10958046\n",
      " 0.10434565 0.1092799  0.11458986 0.11559173 0.12275517 0.12062617\n",
      " 0.12663745 0.13134627 0.12771446 0.13046963 0.13377583 0.12884158\n",
      " 0.12726362 0.13507827 0.13906074 0.14542267 0.14860363 0.1472511\n",
      " 0.14256731 0.14482154 0.13823419 0.13515341 0.13340013 0.14707577\n",
      " 0.14619912 0.14624922 0.14935504 0.15226049 0.14980589 0.14572323\n",
      " 0.14649969 0.14259236 0.14256731 0.15421415 0.15739512 0.15716969\n",
      " 0.15453976 0.15180964 0.14765185 0.16713838 0.16696306 0.16262993\n",
      " 0.15826127 0.1595917  0.16012697 0.16037001 0.16050228 0.16059139\n",
      " 0.16066235 0.16072443]\n",
      "8 day output [[0.160781]]\n",
      "9 day input [0.09790858 0.09056982 0.09380088 0.09665623 0.11015654 0.11937383\n",
      " 0.11243582 0.11974953 0.11291171 0.11028178 0.11063244 0.11774577\n",
      " 0.11611772 0.12145272 0.11739512 0.11448967 0.10429555 0.10537257\n",
      " 0.10659987 0.09986224 0.10289292 0.10161553 0.09635567 0.09785848\n",
      " 0.11068253 0.11769568 0.11211021 0.11529117 0.10958046 0.10434565\n",
      " 0.1092799  0.11458986 0.11559173 0.12275517 0.12062617 0.12663745\n",
      " 0.13134627 0.12771446 0.13046963 0.13377583 0.12884158 0.12726362\n",
      " 0.13507827 0.13906074 0.14542267 0.14860363 0.1472511  0.14256731\n",
      " 0.14482154 0.13823419 0.13515341 0.13340013 0.14707577 0.14619912\n",
      " 0.14624922 0.14935504 0.15226049 0.14980589 0.14572323 0.14649969\n",
      " 0.14259236 0.14256731 0.15421415 0.15739512 0.15716969 0.15453976\n",
      " 0.15180964 0.14765185 0.16713838 0.16696306 0.16262993 0.15826127\n",
      " 0.1595917  0.16012697 0.16037001 0.16050228 0.16059139 0.16066235\n",
      " 0.16072443 0.160781  ]\n",
      "9 day output [[0.16083342]]\n",
      "10 day input [0.09056982 0.09380088 0.09665623 0.11015654 0.11937383 0.11243582\n",
      " 0.11974953 0.11291171 0.11028178 0.11063244 0.11774577 0.11611772\n",
      " 0.12145272 0.11739512 0.11448967 0.10429555 0.10537257 0.10659987\n",
      " 0.09986224 0.10289292 0.10161553 0.09635567 0.09785848 0.11068253\n",
      " 0.11769568 0.11211021 0.11529117 0.10958046 0.10434565 0.1092799\n",
      " 0.11458986 0.11559173 0.12275517 0.12062617 0.12663745 0.13134627\n",
      " 0.12771446 0.13046963 0.13377583 0.12884158 0.12726362 0.13507827\n",
      " 0.13906074 0.14542267 0.14860363 0.1472511  0.14256731 0.14482154\n",
      " 0.13823419 0.13515341 0.13340013 0.14707577 0.14619912 0.14624922\n",
      " 0.14935504 0.15226049 0.14980589 0.14572323 0.14649969 0.14259236\n",
      " 0.14256731 0.15421415 0.15739512 0.15716969 0.15453976 0.15180964\n",
      " 0.14765185 0.16713838 0.16696306 0.16262993 0.15826127 0.1595917\n",
      " 0.16012697 0.16037001 0.16050228 0.16059139 0.16066235 0.16072443\n",
      " 0.160781   0.16083342]\n",
      "10 day output [[0.16088232]]\n",
      "11 day input [0.09380088 0.09665623 0.11015654 0.11937383 0.11243582 0.11974953\n",
      " 0.11291171 0.11028178 0.11063244 0.11774577 0.11611772 0.12145272\n",
      " 0.11739512 0.11448967 0.10429555 0.10537257 0.10659987 0.09986224\n",
      " 0.10289292 0.10161553 0.09635567 0.09785848 0.11068253 0.11769568\n",
      " 0.11211021 0.11529117 0.10958046 0.10434565 0.1092799  0.11458986\n",
      " 0.11559173 0.12275517 0.12062617 0.12663745 0.13134627 0.12771446\n",
      " 0.13046963 0.13377583 0.12884158 0.12726362 0.13507827 0.13906074\n",
      " 0.14542267 0.14860363 0.1472511  0.14256731 0.14482154 0.13823419\n",
      " 0.13515341 0.13340013 0.14707577 0.14619912 0.14624922 0.14935504\n",
      " 0.15226049 0.14980589 0.14572323 0.14649969 0.14259236 0.14256731\n",
      " 0.15421415 0.15739512 0.15716969 0.15453976 0.15180964 0.14765185\n",
      " 0.16713838 0.16696306 0.16262993 0.15826127 0.1595917  0.16012697\n",
      " 0.16037001 0.16050228 0.16059139 0.16066235 0.16072443 0.160781\n",
      " 0.16083342 0.16088232]\n",
      "11 day output [[0.16092816]]\n",
      "12 day input [0.09665623 0.11015654 0.11937383 0.11243582 0.11974953 0.11291171\n",
      " 0.11028178 0.11063244 0.11774577 0.11611772 0.12145272 0.11739512\n",
      " 0.11448967 0.10429555 0.10537257 0.10659987 0.09986224 0.10289292\n",
      " 0.10161553 0.09635567 0.09785848 0.11068253 0.11769568 0.11211021\n",
      " 0.11529117 0.10958046 0.10434565 0.1092799  0.11458986 0.11559173\n",
      " 0.12275517 0.12062617 0.12663745 0.13134627 0.12771446 0.13046963\n",
      " 0.13377583 0.12884158 0.12726362 0.13507827 0.13906074 0.14542267\n",
      " 0.14860363 0.1472511  0.14256731 0.14482154 0.13823419 0.13515341\n",
      " 0.13340013 0.14707577 0.14619912 0.14624922 0.14935504 0.15226049\n",
      " 0.14980589 0.14572323 0.14649969 0.14259236 0.14256731 0.15421415\n",
      " 0.15739512 0.15716969 0.15453976 0.15180964 0.14765185 0.16713838\n",
      " 0.16696306 0.16262993 0.15826127 0.1595917  0.16012697 0.16037001\n",
      " 0.16050228 0.16059139 0.16066235 0.16072443 0.160781   0.16083342\n",
      " 0.16088232 0.16092816]\n"
     ]
    },
    {
     "name": "stdout",
     "output_type": "stream",
     "text": [
      "12 day output [[0.16097131]]\n",
      "13 day input [0.11015654 0.11937383 0.11243582 0.11974953 0.11291171 0.11028178\n",
      " 0.11063244 0.11774577 0.11611772 0.12145272 0.11739512 0.11448967\n",
      " 0.10429555 0.10537257 0.10659987 0.09986224 0.10289292 0.10161553\n",
      " 0.09635567 0.09785848 0.11068253 0.11769568 0.11211021 0.11529117\n",
      " 0.10958046 0.10434565 0.1092799  0.11458986 0.11559173 0.12275517\n",
      " 0.12062617 0.12663745 0.13134627 0.12771446 0.13046963 0.13377583\n",
      " 0.12884158 0.12726362 0.13507827 0.13906074 0.14542267 0.14860363\n",
      " 0.1472511  0.14256731 0.14482154 0.13823419 0.13515341 0.13340013\n",
      " 0.14707577 0.14619912 0.14624922 0.14935504 0.15226049 0.14980589\n",
      " 0.14572323 0.14649969 0.14259236 0.14256731 0.15421415 0.15739512\n",
      " 0.15716969 0.15453976 0.15180964 0.14765185 0.16713838 0.16696306\n",
      " 0.16262993 0.15826127 0.1595917  0.16012697 0.16037001 0.16050228\n",
      " 0.16059139 0.16066235 0.16072443 0.160781   0.16083342 0.16088232\n",
      " 0.16092816 0.16097131]\n",
      "13 day output [[0.16101214]]\n",
      "14 day input [0.11937383 0.11243582 0.11974953 0.11291171 0.11028178 0.11063244\n",
      " 0.11774577 0.11611772 0.12145272 0.11739512 0.11448967 0.10429555\n",
      " 0.10537257 0.10659987 0.09986224 0.10289292 0.10161553 0.09635567\n",
      " 0.09785848 0.11068253 0.11769568 0.11211021 0.11529117 0.10958046\n",
      " 0.10434565 0.1092799  0.11458986 0.11559173 0.12275517 0.12062617\n",
      " 0.12663745 0.13134627 0.12771446 0.13046963 0.13377583 0.12884158\n",
      " 0.12726362 0.13507827 0.13906074 0.14542267 0.14860363 0.1472511\n",
      " 0.14256731 0.14482154 0.13823419 0.13515341 0.13340013 0.14707577\n",
      " 0.14619912 0.14624922 0.14935504 0.15226049 0.14980589 0.14572323\n",
      " 0.14649969 0.14259236 0.14256731 0.15421415 0.15739512 0.15716969\n",
      " 0.15453976 0.15180964 0.14765185 0.16713838 0.16696306 0.16262993\n",
      " 0.15826127 0.1595917  0.16012697 0.16037001 0.16050228 0.16059139\n",
      " 0.16066235 0.16072443 0.160781   0.16083342 0.16088232 0.16092816\n",
      " 0.16097131 0.16101214]\n",
      "14 day output [[0.16105105]]\n",
      "15 day input [0.11243582 0.11974953 0.11291171 0.11028178 0.11063244 0.11774577\n",
      " 0.11611772 0.12145272 0.11739512 0.11448967 0.10429555 0.10537257\n",
      " 0.10659987 0.09986224 0.10289292 0.10161553 0.09635567 0.09785848\n",
      " 0.11068253 0.11769568 0.11211021 0.11529117 0.10958046 0.10434565\n",
      " 0.1092799  0.11458986 0.11559173 0.12275517 0.12062617 0.12663745\n",
      " 0.13134627 0.12771446 0.13046963 0.13377583 0.12884158 0.12726362\n",
      " 0.13507827 0.13906074 0.14542267 0.14860363 0.1472511  0.14256731\n",
      " 0.14482154 0.13823419 0.13515341 0.13340013 0.14707577 0.14619912\n",
      " 0.14624922 0.14935504 0.15226049 0.14980589 0.14572323 0.14649969\n",
      " 0.14259236 0.14256731 0.15421415 0.15739512 0.15716969 0.15453976\n",
      " 0.15180964 0.14765185 0.16713838 0.16696306 0.16262993 0.15826127\n",
      " 0.1595917  0.16012697 0.16037001 0.16050228 0.16059139 0.16066235\n",
      " 0.16072443 0.160781   0.16083342 0.16088232 0.16092816 0.16097131\n",
      " 0.16101214 0.16105105]\n",
      "15 day output [[0.16108836]]\n",
      "16 day input [0.11974953 0.11291171 0.11028178 0.11063244 0.11774577 0.11611772\n",
      " 0.12145272 0.11739512 0.11448967 0.10429555 0.10537257 0.10659987\n",
      " 0.09986224 0.10289292 0.10161553 0.09635567 0.09785848 0.11068253\n",
      " 0.11769568 0.11211021 0.11529117 0.10958046 0.10434565 0.1092799\n",
      " 0.11458986 0.11559173 0.12275517 0.12062617 0.12663745 0.13134627\n",
      " 0.12771446 0.13046963 0.13377583 0.12884158 0.12726362 0.13507827\n",
      " 0.13906074 0.14542267 0.14860363 0.1472511  0.14256731 0.14482154\n",
      " 0.13823419 0.13515341 0.13340013 0.14707577 0.14619912 0.14624922\n",
      " 0.14935504 0.15226049 0.14980589 0.14572323 0.14649969 0.14259236\n",
      " 0.14256731 0.15421415 0.15739512 0.15716969 0.15453976 0.15180964\n",
      " 0.14765185 0.16713838 0.16696306 0.16262993 0.15826127 0.1595917\n",
      " 0.16012697 0.16037001 0.16050228 0.16059139 0.16066235 0.16072443\n",
      " 0.160781   0.16083342 0.16088232 0.16092816 0.16097131 0.16101214\n",
      " 0.16105105 0.16108836]\n",
      "16 day output [[0.16112448]]\n",
      "17 day input [0.11291171 0.11028178 0.11063244 0.11774577 0.11611772 0.12145272\n",
      " 0.11739512 0.11448967 0.10429555 0.10537257 0.10659987 0.09986224\n",
      " 0.10289292 0.10161553 0.09635567 0.09785848 0.11068253 0.11769568\n",
      " 0.11211021 0.11529117 0.10958046 0.10434565 0.1092799  0.11458986\n",
      " 0.11559173 0.12275517 0.12062617 0.12663745 0.13134627 0.12771446\n",
      " 0.13046963 0.13377583 0.12884158 0.12726362 0.13507827 0.13906074\n",
      " 0.14542267 0.14860363 0.1472511  0.14256731 0.14482154 0.13823419\n",
      " 0.13515341 0.13340013 0.14707577 0.14619912 0.14624922 0.14935504\n",
      " 0.15226049 0.14980589 0.14572323 0.14649969 0.14259236 0.14256731\n",
      " 0.15421415 0.15739512 0.15716969 0.15453976 0.15180964 0.14765185\n",
      " 0.16713838 0.16696306 0.16262993 0.15826127 0.1595917  0.16012697\n",
      " 0.16037001 0.16050228 0.16059139 0.16066235 0.16072443 0.160781\n",
      " 0.16083342 0.16088232 0.16092816 0.16097131 0.16101214 0.16105105\n",
      " 0.16108836 0.16112448]\n",
      "17 day output [[0.16115971]]\n",
      "18 day input [0.11028178 0.11063244 0.11774577 0.11611772 0.12145272 0.11739512\n",
      " 0.11448967 0.10429555 0.10537257 0.10659987 0.09986224 0.10289292\n",
      " 0.10161553 0.09635567 0.09785848 0.11068253 0.11769568 0.11211021\n",
      " 0.11529117 0.10958046 0.10434565 0.1092799  0.11458986 0.11559173\n",
      " 0.12275517 0.12062617 0.12663745 0.13134627 0.12771446 0.13046963\n",
      " 0.13377583 0.12884158 0.12726362 0.13507827 0.13906074 0.14542267\n",
      " 0.14860363 0.1472511  0.14256731 0.14482154 0.13823419 0.13515341\n",
      " 0.13340013 0.14707577 0.14619912 0.14624922 0.14935504 0.15226049\n",
      " 0.14980589 0.14572323 0.14649969 0.14259236 0.14256731 0.15421415\n",
      " 0.15739512 0.15716969 0.15453976 0.15180964 0.14765185 0.16713838\n",
      " 0.16696306 0.16262993 0.15826127 0.1595917  0.16012697 0.16037001\n",
      " 0.16050228 0.16059139 0.16066235 0.16072443 0.160781   0.16083342\n",
      " 0.16088232 0.16092816 0.16097131 0.16101214 0.16105105 0.16108836\n",
      " 0.16112448 0.16115971]\n",
      "18 day output [[0.16119434]]\n",
      "19 day input [0.11063244 0.11774577 0.11611772 0.12145272 0.11739512 0.11448967\n",
      " 0.10429555 0.10537257 0.10659987 0.09986224 0.10289292 0.10161553\n",
      " 0.09635567 0.09785848 0.11068253 0.11769568 0.11211021 0.11529117\n",
      " 0.10958046 0.10434565 0.1092799  0.11458986 0.11559173 0.12275517\n",
      " 0.12062617 0.12663745 0.13134627 0.12771446 0.13046963 0.13377583\n",
      " 0.12884158 0.12726362 0.13507827 0.13906074 0.14542267 0.14860363\n",
      " 0.1472511  0.14256731 0.14482154 0.13823419 0.13515341 0.13340013\n",
      " 0.14707577 0.14619912 0.14624922 0.14935504 0.15226049 0.14980589\n",
      " 0.14572323 0.14649969 0.14259236 0.14256731 0.15421415 0.15739512\n",
      " 0.15716969 0.15453976 0.15180964 0.14765185 0.16713838 0.16696306\n",
      " 0.16262993 0.15826127 0.1595917  0.16012697 0.16037001 0.16050228\n",
      " 0.16059139 0.16066235 0.16072443 0.160781   0.16083342 0.16088232\n",
      " 0.16092816 0.16097131 0.16101214 0.16105105 0.16108836 0.16112448\n",
      " 0.16115971 0.16119434]\n",
      "19 day output [[0.16122864]]\n",
      "20 day input [0.11774577 0.11611772 0.12145272 0.11739512 0.11448967 0.10429555\n",
      " 0.10537257 0.10659987 0.09986224 0.10289292 0.10161553 0.09635567\n",
      " 0.09785848 0.11068253 0.11769568 0.11211021 0.11529117 0.10958046\n",
      " 0.10434565 0.1092799  0.11458986 0.11559173 0.12275517 0.12062617\n",
      " 0.12663745 0.13134627 0.12771446 0.13046963 0.13377583 0.12884158\n",
      " 0.12726362 0.13507827 0.13906074 0.14542267 0.14860363 0.1472511\n",
      " 0.14256731 0.14482154 0.13823419 0.13515341 0.13340013 0.14707577\n",
      " 0.14619912 0.14624922 0.14935504 0.15226049 0.14980589 0.14572323\n",
      " 0.14649969 0.14259236 0.14256731 0.15421415 0.15739512 0.15716969\n",
      " 0.15453976 0.15180964 0.14765185 0.16713838 0.16696306 0.16262993\n",
      " 0.15826127 0.1595917  0.16012697 0.16037001 0.16050228 0.16059139\n",
      " 0.16066235 0.16072443 0.160781   0.16083342 0.16088232 0.16092816\n",
      " 0.16097131 0.16101214 0.16105105 0.16108836 0.16112448 0.16115971\n",
      " 0.16119434 0.16122864]\n",
      "20 day output [[0.16126285]]\n",
      "21 day input [0.11611772 0.12145272 0.11739512 0.11448967 0.10429555 0.10537257\n",
      " 0.10659987 0.09986224 0.10289292 0.10161553 0.09635567 0.09785848\n",
      " 0.11068253 0.11769568 0.11211021 0.11529117 0.10958046 0.10434565\n",
      " 0.1092799  0.11458986 0.11559173 0.12275517 0.12062617 0.12663745\n",
      " 0.13134627 0.12771446 0.13046963 0.13377583 0.12884158 0.12726362\n",
      " 0.13507827 0.13906074 0.14542267 0.14860363 0.1472511  0.14256731\n",
      " 0.14482154 0.13823419 0.13515341 0.13340013 0.14707577 0.14619912\n",
      " 0.14624922 0.14935504 0.15226049 0.14980589 0.14572323 0.14649969\n",
      " 0.14259236 0.14256731 0.15421415 0.15739512 0.15716969 0.15453976\n",
      " 0.15180964 0.14765185 0.16713838 0.16696306 0.16262993 0.15826127\n",
      " 0.1595917  0.16012697 0.16037001 0.16050228 0.16059139 0.16066235\n",
      " 0.16072443 0.160781   0.16083342 0.16088232 0.16092816 0.16097131\n",
      " 0.16101214 0.16105105 0.16108836 0.16112448 0.16115971 0.16119434\n",
      " 0.16122864 0.16126285]\n",
      "21 day output [[0.16129719]]\n",
      "22 day input [0.12145272 0.11739512 0.11448967 0.10429555 0.10537257 0.10659987\n",
      " 0.09986224 0.10289292 0.10161553 0.09635567 0.09785848 0.11068253\n",
      " 0.11769568 0.11211021 0.11529117 0.10958046 0.10434565 0.1092799\n",
      " 0.11458986 0.11559173 0.12275517 0.12062617 0.12663745 0.13134627\n",
      " 0.12771446 0.13046963 0.13377583 0.12884158 0.12726362 0.13507827\n",
      " 0.13906074 0.14542267 0.14860363 0.1472511  0.14256731 0.14482154\n",
      " 0.13823419 0.13515341 0.13340013 0.14707577 0.14619912 0.14624922\n",
      " 0.14935504 0.15226049 0.14980589 0.14572323 0.14649969 0.14259236\n",
      " 0.14256731 0.15421415 0.15739512 0.15716969 0.15453976 0.15180964\n",
      " 0.14765185 0.16713838 0.16696306 0.16262993 0.15826127 0.1595917\n",
      " 0.16012697 0.16037001 0.16050228 0.16059139 0.16066235 0.16072443\n",
      " 0.160781   0.16083342 0.16088232 0.16092816 0.16097131 0.16101214\n",
      " 0.16105105 0.16108836 0.16112448 0.16115971 0.16119434 0.16122864\n",
      " 0.16126285 0.16129719]\n",
      "22 day output [[0.16133179]]\n",
      "23 day input [0.11739512 0.11448967 0.10429555 0.10537257 0.10659987 0.09986224\n",
      " 0.10289292 0.10161553 0.09635567 0.09785848 0.11068253 0.11769568\n",
      " 0.11211021 0.11529117 0.10958046 0.10434565 0.1092799  0.11458986\n",
      " 0.11559173 0.12275517 0.12062617 0.12663745 0.13134627 0.12771446\n",
      " 0.13046963 0.13377583 0.12884158 0.12726362 0.13507827 0.13906074\n",
      " 0.14542267 0.14860363 0.1472511  0.14256731 0.14482154 0.13823419\n",
      " 0.13515341 0.13340013 0.14707577 0.14619912 0.14624922 0.14935504\n",
      " 0.15226049 0.14980589 0.14572323 0.14649969 0.14259236 0.14256731\n",
      " 0.15421415 0.15739512 0.15716969 0.15453976 0.15180964 0.14765185\n",
      " 0.16713838 0.16696306 0.16262993 0.15826127 0.1595917  0.16012697\n",
      " 0.16037001 0.16050228 0.16059139 0.16066235 0.16072443 0.160781\n",
      " 0.16083342 0.16088232 0.16092816 0.16097131 0.16101214 0.16105105\n",
      " 0.16108836 0.16112448 0.16115971 0.16119434 0.16122864 0.16126285\n",
      " 0.16129719 0.16133179]\n",
      "23 day output [[0.16136685]]\n",
      "24 day input [0.11448967 0.10429555 0.10537257 0.10659987 0.09986224 0.10289292\n",
      " 0.10161553 0.09635567 0.09785848 0.11068253 0.11769568 0.11211021\n",
      " 0.11529117 0.10958046 0.10434565 0.1092799  0.11458986 0.11559173\n",
      " 0.12275517 0.12062617 0.12663745 0.13134627 0.12771446 0.13046963\n",
      " 0.13377583 0.12884158 0.12726362 0.13507827 0.13906074 0.14542267\n",
      " 0.14860363 0.1472511  0.14256731 0.14482154 0.13823419 0.13515341\n",
      " 0.13340013 0.14707577 0.14619912 0.14624922 0.14935504 0.15226049\n",
      " 0.14980589 0.14572323 0.14649969 0.14259236 0.14256731 0.15421415\n",
      " 0.15739512 0.15716969 0.15453976 0.15180964 0.14765185 0.16713838\n",
      " 0.16696306 0.16262993 0.15826127 0.1595917  0.16012697 0.16037001\n",
      " 0.16050228 0.16059139 0.16066235 0.16072443 0.160781   0.16083342\n",
      " 0.16088232 0.16092816 0.16097131 0.16101214 0.16105105 0.16108836\n",
      " 0.16112448 0.16115971 0.16119434 0.16122864 0.16126285 0.16129719\n",
      " 0.16133179 0.16136685]\n"
     ]
    },
    {
     "name": "stdout",
     "output_type": "stream",
     "text": [
      "24 day output [[0.16140243]]\n",
      "25 day input [0.10429555 0.10537257 0.10659987 0.09986224 0.10289292 0.10161553\n",
      " 0.09635567 0.09785848 0.11068253 0.11769568 0.11211021 0.11529117\n",
      " 0.10958046 0.10434565 0.1092799  0.11458986 0.11559173 0.12275517\n",
      " 0.12062617 0.12663745 0.13134627 0.12771446 0.13046963 0.13377583\n",
      " 0.12884158 0.12726362 0.13507827 0.13906074 0.14542267 0.14860363\n",
      " 0.1472511  0.14256731 0.14482154 0.13823419 0.13515341 0.13340013\n",
      " 0.14707577 0.14619912 0.14624922 0.14935504 0.15226049 0.14980589\n",
      " 0.14572323 0.14649969 0.14259236 0.14256731 0.15421415 0.15739512\n",
      " 0.15716969 0.15453976 0.15180964 0.14765185 0.16713838 0.16696306\n",
      " 0.16262993 0.15826127 0.1595917  0.16012697 0.16037001 0.16050228\n",
      " 0.16059139 0.16066235 0.16072443 0.160781   0.16083342 0.16088232\n",
      " 0.16092816 0.16097131 0.16101214 0.16105105 0.16108836 0.16112448\n",
      " 0.16115971 0.16119434 0.16122864 0.16126285 0.16129719 0.16133179\n",
      " 0.16136685 0.16140243]\n",
      "25 day output [[0.16143872]]\n",
      "26 day input [0.10537257 0.10659987 0.09986224 0.10289292 0.10161553 0.09635567\n",
      " 0.09785848 0.11068253 0.11769568 0.11211021 0.11529117 0.10958046\n",
      " 0.10434565 0.1092799  0.11458986 0.11559173 0.12275517 0.12062617\n",
      " 0.12663745 0.13134627 0.12771446 0.13046963 0.13377583 0.12884158\n",
      " 0.12726362 0.13507827 0.13906074 0.14542267 0.14860363 0.1472511\n",
      " 0.14256731 0.14482154 0.13823419 0.13515341 0.13340013 0.14707577\n",
      " 0.14619912 0.14624922 0.14935504 0.15226049 0.14980589 0.14572323\n",
      " 0.14649969 0.14259236 0.14256731 0.15421415 0.15739512 0.15716969\n",
      " 0.15453976 0.15180964 0.14765185 0.16713838 0.16696306 0.16262993\n",
      " 0.15826127 0.1595917  0.16012697 0.16037001 0.16050228 0.16059139\n",
      " 0.16066235 0.16072443 0.160781   0.16083342 0.16088232 0.16092816\n",
      " 0.16097131 0.16101214 0.16105105 0.16108836 0.16112448 0.16115971\n",
      " 0.16119434 0.16122864 0.16126285 0.16129719 0.16133179 0.16136685\n",
      " 0.16140243 0.16143872]\n",
      "26 day output [[0.1614757]]\n",
      "27 day input [0.10659987 0.09986224 0.10289292 0.10161553 0.09635567 0.09785848\n",
      " 0.11068253 0.11769568 0.11211021 0.11529117 0.10958046 0.10434565\n",
      " 0.1092799  0.11458986 0.11559173 0.12275517 0.12062617 0.12663745\n",
      " 0.13134627 0.12771446 0.13046963 0.13377583 0.12884158 0.12726362\n",
      " 0.13507827 0.13906074 0.14542267 0.14860363 0.1472511  0.14256731\n",
      " 0.14482154 0.13823419 0.13515341 0.13340013 0.14707577 0.14619912\n",
      " 0.14624922 0.14935504 0.15226049 0.14980589 0.14572323 0.14649969\n",
      " 0.14259236 0.14256731 0.15421415 0.15739512 0.15716969 0.15453976\n",
      " 0.15180964 0.14765185 0.16713838 0.16696306 0.16262993 0.15826127\n",
      " 0.1595917  0.16012697 0.16037001 0.16050228 0.16059139 0.16066235\n",
      " 0.16072443 0.160781   0.16083342 0.16088232 0.16092816 0.16097131\n",
      " 0.16101214 0.16105105 0.16108836 0.16112448 0.16115971 0.16119434\n",
      " 0.16122864 0.16126285 0.16129719 0.16133179 0.16136685 0.16140243\n",
      " 0.16143872 0.1614757 ]\n",
      "27 day output [[0.1615135]]\n",
      "28 day input [0.09986224 0.10289292 0.10161553 0.09635567 0.09785848 0.11068253\n",
      " 0.11769568 0.11211021 0.11529117 0.10958046 0.10434565 0.1092799\n",
      " 0.11458986 0.11559173 0.12275517 0.12062617 0.12663745 0.13134627\n",
      " 0.12771446 0.13046963 0.13377583 0.12884158 0.12726362 0.13507827\n",
      " 0.13906074 0.14542267 0.14860363 0.1472511  0.14256731 0.14482154\n",
      " 0.13823419 0.13515341 0.13340013 0.14707577 0.14619912 0.14624922\n",
      " 0.14935504 0.15226049 0.14980589 0.14572323 0.14649969 0.14259236\n",
      " 0.14256731 0.15421415 0.15739512 0.15716969 0.15453976 0.15180964\n",
      " 0.14765185 0.16713838 0.16696306 0.16262993 0.15826127 0.1595917\n",
      " 0.16012697 0.16037001 0.16050228 0.16059139 0.16066235 0.16072443\n",
      " 0.160781   0.16083342 0.16088232 0.16092816 0.16097131 0.16101214\n",
      " 0.16105105 0.16108836 0.16112448 0.16115971 0.16119434 0.16122864\n",
      " 0.16126285 0.16129719 0.16133179 0.16136685 0.16140243 0.16143872\n",
      " 0.1614757  0.16151351]\n",
      "28 day output [[0.16155218]]\n",
      "29 day input [0.10289292 0.10161553 0.09635567 0.09785848 0.11068253 0.11769568\n",
      " 0.11211021 0.11529117 0.10958046 0.10434565 0.1092799  0.11458986\n",
      " 0.11559173 0.12275517 0.12062617 0.12663745 0.13134627 0.12771446\n",
      " 0.13046963 0.13377583 0.12884158 0.12726362 0.13507827 0.13906074\n",
      " 0.14542267 0.14860363 0.1472511  0.14256731 0.14482154 0.13823419\n",
      " 0.13515341 0.13340013 0.14707577 0.14619912 0.14624922 0.14935504\n",
      " 0.15226049 0.14980589 0.14572323 0.14649969 0.14259236 0.14256731\n",
      " 0.15421415 0.15739512 0.15716969 0.15453976 0.15180964 0.14765185\n",
      " 0.16713838 0.16696306 0.16262993 0.15826127 0.1595917  0.16012697\n",
      " 0.16037001 0.16050228 0.16059139 0.16066235 0.16072443 0.160781\n",
      " 0.16083342 0.16088232 0.16092816 0.16097131 0.16101214 0.16105105\n",
      " 0.16108836 0.16112448 0.16115971 0.16119434 0.16122864 0.16126285\n",
      " 0.16129719 0.16133179 0.16136685 0.16140243 0.16143872 0.1614757\n",
      " 0.16151351 0.16155218]\n",
      "29 day output [[0.1615917]]\n",
      "[[0.1582612693309784], [0.1595917046070099], [0.1601269692182541], [0.16037000715732574], [0.16050228476524353], [0.16059139370918274], [0.16066235303878784], [0.1607244312763214], [0.16078099608421326], [0.1608334183692932], [0.16088232398033142], [0.1609281599521637], [0.16097131371498108], [0.16101214289665222], [0.16105104982852936], [0.16108836233615875], [0.16112448275089264], [0.1611597090959549], [0.1611943393945694], [0.16122864186763763], [0.1612628549337387], [0.16129718720912933], [0.16133178770542145], [0.16136685013771057], [0.16140243411064148], [0.1614387184381485], [0.16147570312023163], [0.16151350736618042], [0.16155217587947845], [0.16159169375896454]]\n"
     ]
    }
   ],
   "source": [
    "from numpy import array\n",
    "\n",
    "lst_output=[]\n",
    "n_steps=80\n",
    "i=0\n",
    "while(i<30):\n",
    "    \n",
    "    if(len(temp_input)>80):\n",
    "        #print(temp_input)\n",
    "        x_input=np.array(temp_input[1:])\n",
    "        print(\"{} day input {}\".format(i,x_input))\n",
    "        x_input=x_input.reshape(1,-1)\n",
    "        x_input = x_input.reshape((1, n_steps, 1))\n",
    "        #print(x_input)\n",
    "        yhat = model.predict(x_input, verbose=0)\n",
    "        print(\"{} day output {}\".format(i,yhat))\n",
    "        temp_input.extend(yhat[0].tolist())\n",
    "        temp_input=temp_input[1:]\n",
    "        #print(temp_input)\n",
    "        lst_output.extend(yhat.tolist())\n",
    "        i=i+1\n",
    "    else:\n",
    "        x_input = x_input.reshape((1, n_steps,1))\n",
    "        yhat = model.predict(x_input, verbose=0)\n",
    "        print(yhat[0])\n",
    "        temp_input.extend(yhat[0].tolist())\n",
    "        print(len(temp_input))\n",
    "        lst_output.extend(yhat.tolist())\n",
    "        i=i+1\n",
    "    \n",
    "\n",
    "print(lst_output)"
   ]
  },
  {
   "cell_type": "code",
   "execution_count": 42,
   "id": "2d3e2e94",
   "metadata": {},
   "outputs": [],
   "source": [
    "day_new=np.arange(1,81)\n",
    "day_pred=np.arange(81,111)"
   ]
  },
  {
   "cell_type": "code",
   "execution_count": 43,
   "id": "fc2990c8",
   "metadata": {},
   "outputs": [
    {
     "data": {
      "text/plain": [
       "1257"
      ]
     },
     "execution_count": 43,
     "metadata": {},
     "output_type": "execute_result"
    }
   ],
   "source": [
    "len(data)"
   ]
  },
  {
   "cell_type": "code",
   "execution_count": 44,
   "id": "9e6cf865",
   "metadata": {},
   "outputs": [],
   "source": [
    "data1=data.tolist()\n",
    "data1.extend(lst_output)"
   ]
  },
  {
   "cell_type": "code",
   "execution_count": 45,
   "id": "2a6a1785",
   "metadata": {},
   "outputs": [
    {
     "data": {
      "text/plain": [
       "[<matplotlib.lines.Line2D at 0x150e8eb4e50>]"
      ]
     },
     "execution_count": 45,
     "metadata": {},
     "output_type": "execute_result"
    },
    {
     "data": {
      "image/png": "[encoded data removed]",
      "text/plain": [
       "<Figure size 432x288 with 1 Axes>"
      ]
     },
     "metadata": {
      "needs_background": "light"
     },
     "output_type": "display_data"
    }
   ],
   "source": [
    "plt.plot(day_new,scaler.inverse_transform(data[1177:]))\n",
    "plt.plot(day_pred,scaler.inverse_transform(lst_output))"
   ]
  },
  {
   "cell_type": "code",
   "execution_count": null,
   "id": "135377ae",
   "metadata": {},
   "outputs": [],
   "source": []
  }
 ],
 "metadata": {
  "kernelspec": {
   "display_name": "Python 3 (ipykernel)",
   "language": "python",
   "name": "python3"
  },
  "language_info": {
   "codemirror_mode": {
    "name": "ipython",
    "version": 3
   },
   "file_extension": ".py",
   "mimetype": "text/x-python",
   "name": "python",
   "nbconvert_exporter": "python",
   "pygments_lexer": "ipython3",
   "version": "3.10.4"
  }
 },
 "nbformat": 4,
 "nbformat_minor": 5
}
